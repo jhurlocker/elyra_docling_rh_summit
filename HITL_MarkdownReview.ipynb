{
 "cells": [
  {
   "cell_type": "code",
   "execution_count": 1,
   "id": "2499c32a-9386-4043-af8e-d4679664640b",
   "metadata": {
    "execution": {
     "iopub.execute_input": "2025-03-06T12:32:55.114311Z",
     "iopub.status.busy": "2025-03-06T12:32:55.113498Z",
     "iopub.status.idle": "2025-03-06T12:32:55.116763Z",
     "shell.execute_reply": "2025-03-06T12:32:55.117010Z"
    },
    "papermill": {
     "duration": 0.012309,
     "end_time": "2025-03-06T12:32:55.117121",
     "exception": false,
     "start_time": "2025-03-06T12:32:55.104812",
     "status": "completed"
    },
    "tags": []
   },
   "outputs": [
    {
     "name": "stdout",
     "output_type": "stream",
     "text": [
      "File 'hitl_markdown_log.txt' created and saved successfully.\n"
     ]
    }
   ],
   "source": [
    "def create_and_save_file(filename, content):\n",
    "  try:\n",
    "    with open(filename, 'w') as file:\n",
    "      file.write(content)\n",
    "    print(f\"File '{filename}' created and saved successfully.\")\n",
    "  except Exception as e:\n",
    "    print(f\"An error occurred: {e}\")\n",
    "\n",
    "filename = \"hitl_markdown_log.txt\"\n",
    "text_content = \"\"\"This contains the logs for HITL MarkdownReview.ipynb.\"\"\"\n",
    "\n",
    "create_and_save_file(filename, text_content)"
   ]
  },
  {
   "cell_type": "code",
   "execution_count": 2,
   "id": "c9c33fc6-71e1-4630-bd60-12cbaee11400",
   "metadata": {
    "execution": {
     "iopub.execute_input": "2025-03-06T12:32:55.126556Z",
     "iopub.status.busy": "2025-03-06T12:32:55.125838Z",
     "iopub.status.idle": "2025-03-06T12:33:25.160521Z",
     "shell.execute_reply": "2025-03-06T12:33:25.160786Z"
    },
    "papermill": {
     "duration": 30.042136,
     "end_time": "2025-03-06T12:33:25.160912",
     "exception": false,
     "start_time": "2025-03-06T12:32:55.118776",
     "status": "completed"
    },
    "tags": []
   },
   "outputs": [
    {
     "name": "stdout",
     "output_type": "stream",
     "text": [
      "APPROVED found! Exiting.\n"
     ]
    }
   ],
   "source": [
    "import time\n",
    "\n",
    "def check_file_for_approval(filepath, interval=10):\n",
    "    \"\"\"\n",
    "    Reads a file every 'interval' seconds and checks for the word \"APPROVED\".\n",
    "    Exits the loop when \"APPROVED\" is found.\n",
    "\n",
    "    Args:\n",
    "        filepath (str): The path to the file.\n",
    "        interval (int): The time interval in seconds between file reads.\n",
    "    \"\"\"\n",
    "    try:\n",
    "        while True:\n",
    "            with open(filepath, 'r') as file:\n",
    "                content = file.read().upper()  # Read and convert to uppercase for case-insensitive matching\n",
    "                if \"APPROVED\" in content:\n",
    "                    print(\"APPROVED found! Exiting.\")\n",
    "                    break\n",
    "            time.sleep(interval)\n",
    "\n",
    "    except FileNotFoundError:\n",
    "        print(f\"Error: File '{filepath}' not found.\")\n",
    "    except Exception as e:\n",
    "        print(f\"An error occurred: {e}\")\n",
    "\n",
    "file_path = \"HITL_markdownreview.txt\"\n",
    "#create empty file for testing.\n",
    "with open(file_path, \"w\") as f:\n",
    "    f.write(\"\")\n",
    "\n",
    "check_file_for_approval(file_path)"
   ]
  }
 ],
 "metadata": {
  "kernelspec": {
   "display_name": "Python 3 (ipykernel)",
   "language": "python",
   "name": "python3"
  },
  "language_info": {
   "codemirror_mode": {
    "name": "ipython",
    "version": 3
   },
   "file_extension": ".py",
   "mimetype": "text/x-python",
   "name": "python",
   "nbconvert_exporter": "python",
   "pygments_lexer": "ipython3",
   "version": "3.9.7"
  },
  "papermill": {
   "default_parameters": {},
   "duration": 30.976664,
   "end_time": "2025-03-06T12:33:25.391770",
   "environment_variables": {},
   "exception": null,
   "input_path": "/home/jovyan/elyra_docling_rh_summit/HITL_MarkdownReview.ipynb",
   "output_path": "/home/jovyan/elyra_docling_rh_summit/HITL_MarkdownReview.ipynb",
   "parameters": {},
   "start_time": "2025-03-06T12:32:54.415106",
   "version": "2.4.0"
  },
  "widgets": {
   "application/vnd.jupyter.widget-state+json": {
    "state": {
     "03d8362d1d344f6db69ae5e0f6608254": {
      "model_module": "@jupyter-widgets/base",
      "model_module_version": "2.0.0",
      "model_name": "LayoutModel",
      "state": {
       "_model_module": "@jupyter-widgets/base",
       "_model_module_version": "2.0.0",
       "_model_name": "LayoutModel",
       "_view_count": null,
       "_view_module": "@jupyter-widgets/base",
       "_view_module_version": "2.0.0",
       "_view_name": "LayoutView",
       "align_content": null,
       "align_items": null,
       "align_self": null,
       "border_bottom": null,
       "border_left": null,
       "border_right": null,
       "border_top": null,
       "bottom": null,
       "display": null,
       "flex": null,
       "flex_flow": null,
       "grid_area": null,
       "grid_auto_columns": null,
       "grid_auto_flow": null,
       "grid_auto_rows": null,
       "grid_column": null,
       "grid_gap": null,
       "grid_row": null,
       "grid_template_areas": null,
       "grid_template_columns": null,
       "grid_template_rows": null,
       "height": null,
       "justify_content": null,
       "justify_items": null,
       "left": null,
       "margin": null,
       "max_height": null,
       "max_width": null,
       "min_height": null,
       "min_width": null,
       "object_fit": null,
       "object_position": null,
       "order": null,
       "overflow": null,
       "padding": null,
       "right": null,
       "top": null,
       "visibility": null,
       "width": null
      }
     },
     "0b672e6c4ba74866b069efea4f8a1be7": {
      "model_module": "@jupyter-widgets/controls",
      "model_module_version": "2.0.0",
      "model_name": "CheckboxStyleModel",
      "state": {
       "_model_module": "@jupyter-widgets/controls",
       "_model_module_version": "2.0.0",
       "_model_name": "CheckboxStyleModel",
       "_view_count": null,
       "_view_module": "@jupyter-widgets/base",
       "_view_module_version": "2.0.0",
       "_view_name": "StyleView",
       "background": null,
       "description_width": ""
      }
     },
     "4e7160e2e3114464a5dccf76cf96d992": {
      "model_module": "@jupyter-widgets/controls",
      "model_module_version": "2.0.0",
      "model_name": "CheckboxModel",
      "state": {
       "_dom_classes": [],
       "_model_module": "@jupyter-widgets/controls",
       "_model_module_version": "2.0.0",
       "_model_name": "CheckboxModel",
       "_view_count": null,
       "_view_module": "@jupyter-widgets/controls",
       "_view_module_version": "2.0.0",
       "_view_name": "CheckboxView",
       "description": "Option 2",
       "description_allow_html": false,
       "disabled": false,
       "indent": true,
       "layout": "IPY_MODEL_e95d2e16cdb8413cbf3502f744e508fa",
       "style": "IPY_MODEL_0b672e6c4ba74866b069efea4f8a1be7",
       "tabbable": null,
       "tooltip": null,
       "value": true
      }
     },
     "79764b12ec6442e5bf19c7e3cd7ddec7": {
      "model_module": "@jupyter-widgets/controls",
      "model_module_version": "2.0.0",
      "model_name": "CheckboxModel",
      "state": {
       "_dom_classes": [],
       "_model_module": "@jupyter-widgets/controls",
       "_model_module_version": "2.0.0",
       "_model_name": "CheckboxModel",
       "_view_count": null,
       "_view_module": "@jupyter-widgets/controls",
       "_view_module_version": "2.0.0",
       "_view_name": "CheckboxView",
       "description": "Option 1",
       "description_allow_html": false,
       "disabled": false,
       "indent": true,
       "layout": "IPY_MODEL_03d8362d1d344f6db69ae5e0f6608254",
       "style": "IPY_MODEL_9db44e4617414b1492b6744613736141",
       "tabbable": null,
       "tooltip": null,
       "value": false
      }
     },
     "9db44e4617414b1492b6744613736141": {
      "model_module": "@jupyter-widgets/controls",
      "model_module_version": "2.0.0",
      "model_name": "CheckboxStyleModel",
      "state": {
       "_model_module": "@jupyter-widgets/controls",
       "_model_module_version": "2.0.0",
       "_model_name": "CheckboxStyleModel",
       "_view_count": null,
       "_view_module": "@jupyter-widgets/base",
       "_view_module_version": "2.0.0",
       "_view_name": "StyleView",
       "background": null,
       "description_width": ""
      }
     },
     "e95d2e16cdb8413cbf3502f744e508fa": {
      "model_module": "@jupyter-widgets/base",
      "model_module_version": "2.0.0",
      "model_name": "LayoutModel",
      "state": {
       "_model_module": "@jupyter-widgets/base",
       "_model_module_version": "2.0.0",
       "_model_name": "LayoutModel",
       "_view_count": null,
       "_view_module": "@jupyter-widgets/base",
       "_view_module_version": "2.0.0",
       "_view_name": "LayoutView",
       "align_content": null,
       "align_items": null,
       "align_self": null,
       "border_bottom": null,
       "border_left": null,
       "border_right": null,
       "border_top": null,
       "bottom": null,
       "display": null,
       "flex": null,
       "flex_flow": null,
       "grid_area": null,
       "grid_auto_columns": null,
       "grid_auto_flow": null,
       "grid_auto_rows": null,
       "grid_column": null,
       "grid_gap": null,
       "grid_row": null,
       "grid_template_areas": null,
       "grid_template_columns": null,
       "grid_template_rows": null,
       "height": null,
       "justify_content": null,
       "justify_items": null,
       "left": null,
       "margin": null,
       "max_height": null,
       "max_width": null,
       "min_height": null,
       "min_width": null,
       "object_fit": null,
       "object_position": null,
       "order": null,
       "overflow": null,
       "padding": null,
       "right": null,
       "top": null,
       "visibility": null,
       "width": null
      }
     }
    },
    "version_major": 2,
    "version_minor": 0
   }
  }
 },
 "nbformat": 4,
 "nbformat_minor": 5
}