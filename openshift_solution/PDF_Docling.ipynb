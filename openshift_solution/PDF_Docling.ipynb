{
 "cells": [
  {
   "cell_type": "code",
   "execution_count": null,
   "id": "67c60db5-cf46-4310-a764-0afc3783501a",
   "metadata": {},
   "outputs": [],
   "source": [
    "%pip install docling quackling llama-index llama-index-llms-openllm\n",
    "from docling.document_converter import DocumentConverter\n",
    "from docling.datamodel.base_models import PipelineOptions\n",
    "import logging\n",
    "import os\n",
    "from dotenv import load_dotenv\n",
    "\n",
    "_log = logging.getLogger(__name__)\n",
    "logging.basicConfig(level=logging.INFO)"
   ]
  },
  {
   "cell_type": "code",
   "execution_count": null,
   "id": "ae0d55ab-939a-4a87-bae3-dfc876384b95",
   "metadata": {},
   "outputs": [],
   "source": [
    "source = \"data/CELEX_32021R1173_EN_TXT.pdf\"\n",
    "converter = DocumentConverter(pipeline_options=PipelineOptions())\n",
    "result = converter.convert_single(source)\n",
    "print(len(result.pages))"
   ]
  },
  {
   "cell_type": "code",
   "execution_count": null,
   "id": "d9ccea13-3f74-4584-a8a0-7bfd0bc8a223",
   "metadata": {},
   "outputs": [],
   "source": [
    "from quackling.llama_index.node_parsers import HierarchicalJSONNodeParser\n",
    "from quackling.llama_index.readers import DoclingPDFReader\n",
    "\n",
    "reader = DoclingPDFReader(parse_type=DoclingPDFReader.ParseType.JSON)\n",
    "node_parser = HierarchicalJSONNodeParser()"
   ]
  },
  {
   "cell_type": "code",
   "execution_count": null,
   "id": "eaaba6d1-6140-443f-a77d-f15d95997138",
   "metadata": {},
   "outputs": [],
   "source": [
    "docs = reader.load_data(file_path=source)"
   ]
  }
 ],
 "metadata": {
  "kernelspec": {
   "display_name": "Python 3 (ipykernel)",
   "language": "python",
   "name": "python3"
  },
  "language_info": {
   "codemirror_mode": {
    "name": "ipython",
    "version": 3
   },
   "file_extension": ".py",
   "mimetype": "text/x-python",
   "name": "python",
   "nbconvert_exporter": "python",
   "pygments_lexer": "ipython3",
   "version": "3.11.4"
  }
 },
 "nbformat": 4,
 "nbformat_minor": 5
}
