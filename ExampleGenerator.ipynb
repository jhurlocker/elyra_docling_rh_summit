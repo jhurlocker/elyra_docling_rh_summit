{
 "cells": [
  {
   "cell_type": "code",
   "execution_count": 1,
   "id": "2498b445-f072-47cb-8a8c-69ab6fa78e3f",
   "metadata": {
    "execution": {
     "iopub.execute_input": "2025-03-06T12:33:26.183029Z",
     "iopub.status.busy": "2025-03-06T12:33:26.182432Z",
     "iopub.status.idle": "2025-03-06T12:33:26.186371Z",
     "shell.execute_reply": "2025-03-06T12:33:26.186015Z"
    },
    "papermill": {
     "duration": 0.012266,
     "end_time": "2025-03-06T12:33:26.186449",
     "exception": false,
     "start_time": "2025-03-06T12:33:26.174183",
     "status": "completed"
    },
    "tags": []
   },
   "outputs": [
    {
     "name": "stdout",
     "output_type": "stream",
     "text": [
      "File 'examplegenerator_log.txt' created and saved successfully.\n"
     ]
    }
   ],
   "source": [
    "def create_and_save_file(filename, content):\n",
    "  try:\n",
    "    with open(filename, 'w') as file:\n",
    "      file.write(content)\n",
    "    print(f\"File '{filename}' created and saved successfully.\")\n",
    "  except Exception as e:\n",
    "    print(f\"An error occurred: {e}\")\n",
    "\n",
    "filename = \"examplegenerator_log.txt\"\n",
    "text_content = \"\"\"This contains the logs for ExampleGenerator.ipynb. \"\"\"\n",
    "\n",
    "create_and_save_file(filename, text_content)"
   ]
  }
 ],
 "metadata": {
  "kernelspec": {
   "display_name": "Python 3 (ipykernel)",
   "language": "python",
   "name": "python3"
  },
  "language_info": {
   "codemirror_mode": {
    "name": "ipython",
    "version": 3
   },
   "file_extension": ".py",
   "mimetype": "text/x-python",
   "name": "python",
   "nbconvert_exporter": "python",
   "pygments_lexer": "ipython3",
   "version": "3.9.7"
  },
  "papermill": {
   "default_parameters": {},
   "duration": 1.009433,
   "end_time": "2025-03-06T12:33:26.405564",
   "environment_variables": {},
   "exception": null,
   "input_path": "/home/jovyan/elyra_docling_rh_summit/ExampleGenerator.ipynb",
   "output_path": "/home/jovyan/elyra_docling_rh_summit/ExampleGenerator.ipynb",
   "parameters": {},
   "start_time": "2025-03-06T12:33:25.396131",
   "version": "2.4.0"
  }
 },
 "nbformat": 4,
 "nbformat_minor": 5
}