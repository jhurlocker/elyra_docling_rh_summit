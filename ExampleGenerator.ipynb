{
 "cells": [
  {
   "cell_type": "code",
   "execution_count": 1,
   "id": "2498b445-f072-47cb-8a8c-69ab6fa78e3f",
   "metadata": {
    "execution": {
     "iopub.execute_input": "2025-03-18T20:39:38.811243Z",
     "iopub.status.busy": "2025-03-18T20:39:38.810966Z",
     "iopub.status.idle": "2025-03-18T20:39:38.817667Z",
     "shell.execute_reply": "2025-03-18T20:39:38.817287Z"
    },
    "papermill": {
     "duration": 0.009603,
     "end_time": "2025-03-18T20:39:38.818594",
     "exception": false,
     "start_time": "2025-03-18T20:39:38.808991",
     "status": "completed"
    },
    "tags": []
   },
   "outputs": [
    {
     "name": "stdout",
     "output_type": "stream",
     "text": [
      "File 'examplegenerator_log.txt' created and saved successfully.\n"
     ]
    }
   ],
   "source": [
    "def create_and_save_file(filename, content):\n",
    "  try:\n",
    "    with open(filename, 'w') as file:\n",
    "      file.write(content)\n",
    "    print(f\"File '{filename}' created and saved successfully.\")\n",
    "  except Exception as e:\n",
    "    print(f\"An error occurred: {e}\")\n",
    "\n",
    "filename = \"examplegenerator_log.txt\"\n",
    "text_content = \"\"\"This contains the logs for ExampleGenerator.ipynb. \"\"\"\n",
    "\n",
    "create_and_save_file(filename, text_content)"
   ]
  }
 ],
 "metadata": {
  "kernelspec": {
   "display_name": "Python 3 (ipykernel)",
   "language": "python",
   "name": "python3"
  },
  "language_info": {
   "codemirror_mode": {
    "name": "ipython",
    "version": 3
   },
   "file_extension": ".py",
   "mimetype": "text/x-python",
   "name": "python",
   "nbconvert_exporter": "python",
   "pygments_lexer": "ipython3",
   "version": "3.11.4"
  },
  "papermill": {
   "default_parameters": {},
   "duration": 0.827157,
   "end_time": "2025-03-18T20:39:39.035769",
   "environment_variables": {},
   "exception": null,
   "input_path": "/home/jhurlocker/Documents/Red_Hat/elyra_docling_rh_summit/ExampleGenerator.ipynb",
   "output_path": "/home/jhurlocker/Documents/Red_Hat/elyra_docling_rh_summit/ExampleGenerator.ipynb",
   "parameters": {},
   "start_time": "2025-03-18T20:39:38.208612",
   "version": "2.4.0"
  }
 },
 "nbformat": 4,
 "nbformat_minor": 5
}