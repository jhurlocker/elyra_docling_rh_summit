{
 "cells": [
  {
   "cell_type": "code",
   "execution_count": 1,
   "id": "83640758-6399-4c04-893f-c5ffcc6ec875",
   "metadata": {
    "execution": {
     "iopub.execute_input": "2025-03-18T20:39:07.031287Z",
     "iopub.status.busy": "2025-03-18T20:39:07.031008Z",
     "iopub.status.idle": "2025-03-18T20:39:07.037433Z",
     "shell.execute_reply": "2025-03-18T20:39:07.037094Z"
    },
    "papermill": {
     "duration": 0.010525,
     "end_time": "2025-03-18T20:39:07.038755",
     "exception": false,
     "start_time": "2025-03-18T20:39:07.028230",
     "status": "completed"
    },
    "tags": []
   },
   "outputs": [
    {
     "name": "stdout",
     "output_type": "stream",
     "text": [
      "Random integer: 6\n",
      "File 'converter_log_6.txt' created and saved successfully.\n"
     ]
    }
   ],
   "source": [
    "import random\n",
    "\n",
    "def create_and_save_file(filename, content):\n",
    "  try:\n",
    "    with open(filename, 'w') as file:\n",
    "      file.write(content)\n",
    "    print(f\"File '{filename}' created and saved successfully.\")\n",
    "  except Exception as e:\n",
    "    print(f\"An error occurred: {e}\")\n",
    "\n",
    "random_integer = random.randint(1, 100)  # Generates a number between 1 and 10\n",
    "print(f\"Random integer: {random_integer}\")\n",
    "filename = \"converter_log_\" + str(random_integer) + \".txt\"\n",
    "\n",
    "text_content = \"\"\"This contains the logs for converter.ipynb. \"\"\"\n",
    "\n",
    "create_and_save_file(filename, text_content)"
   ]
  },
  {
   "cell_type": "code",
   "execution_count": null,
   "id": "83419f3c-b555-46a4-8dc0-a5d1b3b42caf",
   "metadata": {
    "papermill": {
     "duration": 0.000632,
     "end_time": "2025-03-18T20:39:07.040256",
     "exception": false,
     "start_time": "2025-03-18T20:39:07.039624",
     "status": "completed"
    },
    "tags": []
   },
   "outputs": [],
   "source": []
  }
 ],
 "metadata": {
  "kernelspec": {
   "display_name": "Python 3 (ipykernel)",
   "language": "python",
   "name": "python3"
  },
  "language_info": {
   "codemirror_mode": {
    "name": "ipython",
    "version": 3
   },
   "file_extension": ".py",
   "mimetype": "text/x-python",
   "name": "python",
   "nbconvert_exporter": "python",
   "pygments_lexer": "ipython3",
   "version": "3.11.4"
  },
  "papermill": {
   "default_parameters": {},
   "duration": 1.079138,
   "end_time": "2025-03-18T20:39:07.258883",
   "environment_variables": {},
   "exception": null,
   "input_path": "/home/jhurlocker/Documents/Red_Hat/elyra_docling_rh_summit/Converter.ipynb",
   "output_path": "/home/jhurlocker/Documents/Red_Hat/elyra_docling_rh_summit/Converter.ipynb",
   "parameters": {},
   "start_time": "2025-03-18T20:39:06.179745",
   "version": "2.4.0"
  }
 },
 "nbformat": 4,
 "nbformat_minor": 5
}