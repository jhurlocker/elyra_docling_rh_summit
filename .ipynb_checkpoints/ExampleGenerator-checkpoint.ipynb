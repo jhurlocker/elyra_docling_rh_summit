{
 "cells": [
  {
   "cell_type": "code",
   "execution_count": null,
   "id": "2498b445-f072-47cb-8a8c-69ab6fa78e3f",
   "metadata": {},
   "outputs": [],
   "source": [
    "def create_and_save_file(filename, content):\n",
    "  try:\n",
    "    with open(filename, 'w') as file:\n",
    "      file.write(content)\n",
    "    print(f\"File '{filename}' created and saved successfully.\")\n",
    "  except Exception as e:\n",
    "    print(f\"An error occurred: {e}\")\n",
    "\n",
    "filename = \"examplegenerator_log.txt\"\n",
    "text_content = \"\"\"This contains the logs for ExampleGenerator.ipynb. \"\"\"\n",
    "\n",
    "create_and_save_file(filename, text_content)"
   ]
  }
 ],
 "metadata": {
  "kernelspec": {
   "display_name": "Python 3 (ipykernel)",
   "language": "python",
   "name": "python3"
  },
  "language_info": {
   "codemirror_mode": {
    "name": "ipython",
    "version": 3
   },
   "file_extension": ".py",
   "mimetype": "text/x-python",
   "name": "python",
   "nbconvert_exporter": "python",
   "pygments_lexer": "ipython3",
   "version": "3.9.7"
  }
 },
 "nbformat": 4,
 "nbformat_minor": 5
}
