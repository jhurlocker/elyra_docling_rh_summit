{
 "cells": [
  {
   "cell_type": "code",
   "execution_count": null,
   "id": "bdebdd8b-a8db-4240-ba56-51d9b79d69ca",
   "metadata": {},
   "outputs": [],
   "source": [
    "def create_and_save_file(filename, content):\n",
    "  try:\n",
    "    with open(filename, 'w') as file:\n",
    "      file.write(content)\n",
    "    print(f\"File '{filename}' created and saved successfully.\")\n",
    "  except Exception as e:\n",
    "    print(f\"An error occurred: {e}\")\n",
    "\n",
    "filename = \"hitl_qna_review_log.txt\"\n",
    "text_content = \"\"\"This contains the logs for HITL_qna_review.ipynb.\"\"\"\n",
    "\n",
    "create_and_save_file(filename, text_content)"
   ]
  },
  {
   "cell_type": "code",
   "execution_count": null,
   "id": "c7a18983-e808-41a8-863c-773a35217d86",
   "metadata": {},
   "outputs": [],
   "source": []
  }
 ],
 "metadata": {
  "kernelspec": {
   "display_name": "Python 3 (ipykernel)",
   "language": "python",
   "name": "python3"
  },
  "language_info": {
   "codemirror_mode": {
    "name": "ipython",
    "version": 3
   },
   "file_extension": ".py",
   "mimetype": "text/x-python",
   "name": "python",
   "nbconvert_exporter": "python",
   "pygments_lexer": "ipython3",
   "version": "3.9.7"
  }
 },
 "nbformat": 4,
 "nbformat_minor": 5
}
